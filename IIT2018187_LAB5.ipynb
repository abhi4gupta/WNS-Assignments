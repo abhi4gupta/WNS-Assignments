{
  "nbformat": 4,
  "nbformat_minor": 0,
  "metadata": {
    "colab": {
      "name": "IIT2018187_LAB5.ipynb",
      "provenance": [],
      "authorship_tag": "ABX9TyNvfMKgUGYQ18QCFecb8naD",
      "include_colab_link": true
    },
    "kernelspec": {
      "name": "python3",
      "display_name": "Python 3"
    },
    "language_info": {
      "name": "python"
    }
  },
  "cells": [
    {
      "cell_type": "markdown",
      "metadata": {
        "id": "view-in-github",
        "colab_type": "text"
      },
      "source": [
        "<a href=\"https://colab.research.google.com/github/abhi4gupta/WNS-Assignments/blob/main/IIT2018187_LAB5.ipynb\" target=\"_parent\"><img src=\"https://colab.research.google.com/assets/colab-badge.svg\" alt=\"Open In Colab\"/></a>"
      ]
    },
    {
      "cell_type": "markdown",
      "metadata": {
        "id": "lryjmiIkaqPQ"
      },
      "source": [
        "##Wireless Networks - (iit2018187)(Abhishek Kumar Gupta)\n",
        " \n",
        " \n",
        "##Lab 1: Building a Spectrum Analyzer using HackRF\n",
        "In this lab we will be exploring the discrete Fourier transform which is one of the most important concepts in radio signal processing. We will also be working with real radio hardware to record radio signals and to understand some of the quirks of radio hardware. Finally, we'll implement a simple spectrograph which is a tool that's commonly used to visualize signals in both frequency and time.\n",
        " \n",
        "Beyond introducing these three concepts, the goal of this lab is to develop an understanding of the lowest \"layer\" of wireless communication - the \"physical\" layer. By the end of this lab, you should be able to answer:\n",
        " \n",
        "* What is a radio \"signal\"? How is a radio signal represented in the digital domain?\n",
        "* What is the wireless \"spectrum\"?\n",
        "* What does it mean for a signal to have high bandwidth?"
      ]
    },
    {
      "cell_type": "markdown",
      "metadata": {
        "id": "spaDNmb8bM-e"
      },
      "source": [
        "##Answers\n",
        "\n",
        "1. The radio signal is an electronic current moving back and forth very quickly. A transmitter radiates this field outward via an antenna; a receiver then picks up the field and translates it to the sounds heard through the radio.\n",
        "\n",
        "2. To create a digital signal, an analog signal must be modulated with a control signal to produce it. The simplest modulation, a type of unipolar encoding, is simply to switch on and off a DC signal so that high voltages represent a '1' and low voltages are '0'.\n",
        "In digital radio schemes one or more carrier waves are amplitude, frequency or phase modulated by the control signal to produce a digital signal suitable for transmission.\n",
        "3. The bandwidth of a signal is defined as the difference between the upper and lower frequencies of a signal generated. As seen from the above representation, Bandwidth (B) of the signal is equal to the difference between the higher or upper-frequency (fH) and the lower frequency (fL)."
      ]
    },
    {
      "cell_type": "code",
      "metadata": {
        "colab": {
          "base_uri": "https://localhost:8080/"
        },
        "id": "LfYccbrBd0Q0",
        "outputId": "b74fdeb4-0bdf-4de9-b48c-3ada30755770"
      },
      "source": [
        "pip install SimpleSoapy"
      ],
      "execution_count": null,
      "outputs": [
        {
          "output_type": "stream",
          "text": [
            "shell-init: error retrieving current directory: getcwd: cannot access parent directories: No such file or directory\n",
            "shell-init: error retrieving current directory: getcwd: cannot access parent directories: No such file or directory\n",
            "The folder you are executing pip from can no longer be found.\n"
          ],
          "name": "stdout"
        }
      ]
    },
    {
      "cell_type": "code",
      "metadata": {
        "id": "EbaiN52hbIZ6"
      },
      "source": [
        "%matplotlib inline\n",
        "\n",
        "import math\n",
        "\n",
        "from IPython.display import HTML\n",
        "from matplotlib import animation, pyplot, rc\n",
        "import numpy\n"
      ],
      "execution_count": null,
      "outputs": []
    },
    {
      "cell_type": "markdown",
      "metadata": {
        "id": "7aHVJQ_9dQPv"
      },
      "source": [
        "#Part 0: The Discrete Fourier Transform\n",
        "Consider the equation for the DFT of a signal  x  of length  N \n",
        "X[k]=∑n=0N−1x[n]e−i2πknN\n",
        " \n",
        "In the above equation,  X  is also length  N  and the value at index  k  is the frequency component of  x  at normalized frequency  2πkN  radians per sample. Each element of  X  is the result of multiplying the signal  x  by a tone (a signal with only one frequency component) at the appropriate frequency, then summing the result. It's remarkable that the DFT is invertible; to go from  X  to  x  simply apply the same transformation except with a positive exponential instead of the negative. This is the \"Inverse Discrete Fourier Transform\" (IDFT).\n",
        "\n",
        "#Problem 0.1 Implementing the DFT (10 pts)\n",
        "Implement the DFT on your own using the above equation (let  k  range from 0 to  N−1 ). Compare against numpy's version on a random signal. Use the below cell for your code and testing."
      ]
    },
    {
      "cell_type": "code",
      "metadata": {
        "id": "sg5MGcSndaV6"
      },
      "source": [
        "import numpy as np\n",
        "import cmath\n",
        "def dft(signal):\n",
        "  n=len(signal)\n",
        "  output=[]\n",
        "  for k in range(n):\n",
        "    s=complex(0)\n",
        "    for t in range(n):\n",
        "      angle=(2j*cmath.pi*t*k)/n\n",
        "      s+=signal[t]*cmath.exp(-angle)\n",
        "    output.append(s)\n",
        "  return output\n"
      ],
      "execution_count": null,
      "outputs": []
    },
    {
      "cell_type": "code",
      "metadata": {
        "colab": {
          "base_uri": "https://localhost:8080/"
        },
        "id": "XOlUx43_enRT",
        "outputId": "c6fdca6b-19c0-49a7-d49e-5c8992d3e031"
      },
      "source": [
        "# random complex sequence\n",
        "signal = numpy.random.random(10) + 1j * numpy.random.random(10)\n",
        "# Assert that your code matches numpy's version of the DFT\n",
        "dftsignal=numpy.asarray(dft(signal))\n",
        "print(dftsignal) \n",
        "print(numpy.fft.fft(signal))\n",
        "numpy.testing.assert_almost_equal(dftsignal, numpy.fft.fft(signal))"
      ],
      "execution_count": null,
      "outputs": [
        {
          "output_type": "stream",
          "text": [
            "[ 5.70033775+5.52181766j  2.02396818-2.46808595j -0.99534387-0.67493813j\n",
            "  0.08393194-0.07388735j  0.06015498+0.03522393j -0.37421514+0.5973632j\n",
            "  0.30197692+0.23784462j -0.04108782-0.75914946j  1.4004319 -0.71673555j\n",
            "  0.05876892+1.17455609j]\n",
            "[ 5.70033775+5.52181766j  2.02396818-2.46808595j -0.99534387-0.67493813j\n",
            "  0.08393194-0.07388735j  0.06015498+0.03522393j -0.37421514+0.5973632j\n",
            "  0.30197692+0.23784462j -0.04108782-0.75914946j  1.4004319 -0.71673555j\n",
            "  0.05876892+1.17455609j]\n"
          ],
          "name": "stdout"
        }
      ]
    },
    {
      "cell_type": "code",
      "metadata": {
        "colab": {
          "base_uri": "https://localhost:8080/",
          "height": 321
        },
        "id": "BlM3VWRRl2x8",
        "outputId": "466f5eb4-f898-4c97-c8f0-539d0f5c47b8"
      },
      "source": [
        "signal = numpy.exp(1j * 2 * numpy.pi * (2.5 / 128) * numpy.arange(128))\n",
        "#print(signal.real)\n",
        "pyplot.figure()\n",
        "pyplot.stem(signal.real) \n",
        "pyplot.show()"
      ],
      "execution_count": null,
      "outputs": [
        {
          "output_type": "stream",
          "text": [
            "/usr/local/lib/python3.7/dist-packages/ipykernel_launcher.py:4: UserWarning: In Matplotlib 3.3 individual lines on a stem plot will be added as a LineCollection instead of individual lines. This significantly improves the performance of a stem plot. To remove this warning and switch to the new behaviour, set the \"use_line_collection\" keyword argument to True.\n",
            "  after removing the cwd from sys.path.\n"
          ],
          "name": "stderr"
        },
        {
          "output_type": "display_data",
          "data": {
            "image/png": "[encoded data removed]",
            "text/plain": [
              "<Figure size 432x288 with 1 Axes>"
            ]
          },
          "metadata": {
            "tags": [],
            "needs_background": "light"
          }
        }
      ]
    },
    {
      "cell_type": "markdown",
      "metadata": {
        "id": "D3HWLH--nE3a"
      },
      "source": [
        "* a)  (4 pts)\n",
        "Plot the DFT of this signal (the DFT is complex, just plot the magnitudes)\n",
        "\n",
        "* b) (4 pts)\n",
        "Double the length of the signal by adding zeros to the end of the signal. Plot the DFT of this \"zero-padded\" signal in a separate plot\n",
        "\n",
        "* c) (2 pts)\n",
        "The zero-padded DFT has twice as many points as the original. Which frequencies  k  in the zero-padded DFT are the same as those in the DFT of the original signal? You can use either your implementation of the DFT or numpy's.\n",
        "\n",
        "\n",
        "\n",
        "What could you do if you wanted the component of an arbitrary frequency? One option is to zero-pad the signal until the chosen frequency shows up in the discrete spectrum, but this can be inefficent for some frequencies.\n",
        "#Problem 0.3 Fine Frequency Adjustments (10 pts)\n",
        "* Write a python function that calculates the frequency \"bin\" for an arbitrary frequency on a signal. Your function should pass all of the test cases below.\n",
        "\n",
        "Your function get_freq_component should take a signal which is an array of complex values and a frequency index  k  which will be a floating point number, and it should return a complex value. Hint: consider what would happen if the value of  k  in the definition of the DFT is not an integer."
      ]
    },
    {
      "cell_type": "code",
      "metadata": {
        "colab": {
          "base_uri": "https://localhost:8080/",
          "height": 321
        },
        "id": "w7ZAahBqoQAS",
        "outputId": "5c597176-43e5-4995-806b-227ccb3da208"
      },
      "source": [
        "#plotting DFT\n",
        "dftsignal = numpy.asarray(dft(signal))\n",
        "# print(dftsignal)\n",
        "pyplot.figure()\n",
        "pyplot.stem(dftsignal.real) \n",
        "pyplot.show()"
      ],
      "execution_count": null,
      "outputs": [
        {
          "output_type": "stream",
          "text": [
            "/usr/local/lib/python3.7/dist-packages/ipykernel_launcher.py:5: UserWarning: In Matplotlib 3.3 individual lines on a stem plot will be added as a LineCollection instead of individual lines. This significantly improves the performance of a stem plot. To remove this warning and switch to the new behaviour, set the \"use_line_collection\" keyword argument to True.\n",
            "  \"\"\"\n"
          ],
          "name": "stderr"
        },
        {
          "output_type": "display_data",
          "data": {
            "image/png": "[encoded data removed]",
            "text/plain": [
              "<Figure size 432x288 with 1 Axes>"
            ]
          },
          "metadata": {
            "tags": [],
            "needs_background": "light"
          }
        }
      ]
    },
    {
      "cell_type": "code",
      "metadata": {
        "colab": {
          "base_uri": "https://localhost:8080/",
          "height": 604
        },
        "id": "wVbYz4m6pyvn",
        "outputId": "9cfeca50-03b7-44ec-dac0-62887063bc0b"
      },
      "source": [
        "##adding the padding...\n",
        "# print(signal)\n",
        "signal = numpy.exp(1j * 2 * numpy.pi * (2.5 / 128) * numpy.arange(128))\n",
        "signalt=numpy.exp(1j * 2 * numpy.pi * (2.5 / 128) * numpy.arange(128))\n",
        "# print(signal)\n",
        "for i in range(5,len(signalt)):\n",
        "  signalt[i]=0+1j*0\n",
        "padsignal=numpy.append(signal,signalt)\n",
        "#print(signal)\n",
        "#print(padsignal)\n",
        "dftpadsignal=numpy.asarray(dft(padsignal))\n",
        "pyplot.figure()\n",
        "pyplot.stem(padsignal.real) \n",
        "pyplot.show()\n",
        "pyplot.figure()\n",
        "pyplot.stem(dftpadsignal.real) \n",
        "pyplot.show()\n"
      ],
      "execution_count": null,
      "outputs": [
        {
          "output_type": "stream",
          "text": [
            "/usr/local/lib/python3.7/dist-packages/ipykernel_launcher.py:13: UserWarning: In Matplotlib 3.3 individual lines on a stem plot will be added as a LineCollection instead of individual lines. This significantly improves the performance of a stem plot. To remove this warning and switch to the new behaviour, set the \"use_line_collection\" keyword argument to True.\n",
            "  del sys.path[0]\n"
          ],
          "name": "stderr"
        },
        {
          "output_type": "display_data",
          "data": {
            "image/png": "[encoded data removed]",
            "text/plain": [
              "<Figure size 432x288 with 1 Axes>"
            ]
          },
          "metadata": {
            "tags": [],
            "needs_background": "light"
          }
        },
        {
          "output_type": "stream",
          "text": [
            "/usr/local/lib/python3.7/dist-packages/ipykernel_launcher.py:16: UserWarning: In Matplotlib 3.3 individual lines on a stem plot will be added as a LineCollection instead of individual lines. This significantly improves the performance of a stem plot. To remove this warning and switch to the new behaviour, set the \"use_line_collection\" keyword argument to True.\n",
            "  app.launch_new_instance()\n"
          ],
          "name": "stderr"
        },
        {
          "output_type": "display_data",
          "data": {
            "image/png": "[encoded data removed]",
            "text/plain": [
              "<Figure size 432x288 with 1 Axes>"
            ]
          },
          "metadata": {
            "tags": [],
            "needs_background": "light"
          }
        }
      ]
    },
    {
      "cell_type": "code",
      "metadata": {
        "colab": {
          "base_uri": "https://localhost:8080/"
        },
        "id": "IZHHXIen2HY4",
        "outputId": "13362e59-975e-4006-c396-35d6a76eda2f"
      },
      "source": [
        "#The zero-padded DFT has twice as many points as the original. Which frequencies k in the zero-padded DFT are the same as those in the DFT of the original signal?\n",
        "ans=[]\n",
        "for i in range(len(signal)):\n",
        "  if dftsignal[i].real==dftpadsignal[i].real:\n",
        "    ans.append(i)\n",
        "print(ans)"
      ],
      "execution_count": null,
      "outputs": [
        {
          "output_type": "stream",
          "text": [
            "[]\n"
          ],
          "name": "stdout"
        }
      ]
    },
    {
      "cell_type": "markdown",
      "metadata": {
        "id": "zpTr5tCF5izY"
      },
      "source": [
        "#Problem 0.3 Fine Frequency Adjustments (10 pts)\n",
        "* Write a python function that calculates the frequency \"bin\" for an arbitrary frequency on a signal. Your function should pass all of the test cases below.\n",
        "\n",
        "Your function get_freq_component should take a signal which is an array of complex values and a frequency index  k  which will be a floating point number, and it should return a complex value. Hint: consider what would happen if the value of  k  in the definition of the DFT is not an integer."
      ]
    },
    {
      "cell_type": "code",
      "metadata": {
        "id": "cpn0Zdd1nhu_",
        "colab": {
          "base_uri": "https://localhost:8080/",
          "height": 352
        },
        "outputId": "9aac6998-dc36-4f3e-f446-630bf01a3f99"
      },
      "source": [
        "from scipy import fftpack\n",
        "f_s = 100\n",
        "X = fftpack.fft(signal)\n",
        "freqs = fftpack.fftfreq(len(signal)) * f_s\n",
        "\n",
        "fig, ax = pyplot.subplots()\n",
        "\n",
        "ax.stem(freqs, np.abs(X))\n",
        "ax.set_xlabel('Frequency in Hertz [Hz]')\n",
        "ax.set_ylabel('Frequency Domain (Spectrum) Magnitude')\n",
        "ax.set_xlim(-f_s / 2, f_s / 2)\n",
        "ax.set_ylim(-5, 110)"
      ],
      "execution_count": null,
      "outputs": [
        {
          "output_type": "stream",
          "text": [
            "/usr/local/lib/python3.7/dist-packages/ipykernel_launcher.py:8: UserWarning: In Matplotlib 3.3 individual lines on a stem plot will be added as a LineCollection instead of individual lines. This significantly improves the performance of a stem plot. To remove this warning and switch to the new behaviour, set the \"use_line_collection\" keyword argument to True.\n",
            "  \n"
          ],
          "name": "stderr"
        },
        {
          "output_type": "execute_result",
          "data": {
            "text/plain": [
              "(-5.0, 110.0)"
            ]
          },
          "metadata": {
            "tags": []
          },
          "execution_count": 250
        },
        {
          "output_type": "display_data",
          "data": {
            "image/png": "[encoded data removed]",
            "text/plain": [
              "<Figure size 432x288 with 1 Axes>"
            ]
          },
          "metadata": {
            "tags": [],
            "needs_background": "light"
          }
        }
      ]
    },
    {
      "cell_type": "markdown",
      "metadata": {
        "id": "h4mYVR2Z9tUA"
      },
      "source": [
        "#Problem 0.4 Low-Pass Filtering with the DFT (10 pts)\n",
        "Now, we will implement a low-pass filter using the DFT. A low-pass filter is a filter that takes a signal and removes (or significantly attenuates) the high frequencies, leaving behind the lower frequency components. Below is an example of a low-passed signal."
      ]
    },
    {
      "cell_type": "code",
      "metadata": {
        "colab": {
          "base_uri": "https://localhost:8080/",
          "height": 265
        },
        "id": "h9GPxhgs9jrq",
        "outputId": "2775974f-66b1-4b09-974f-dd863be61abd"
      },
      "source": [
        "x = numpy.linspace(0, 2 * numpy.pi, 100)\n",
        "lpf_signal = numpy.sin(x)\n",
        "signal = lpf_signal + numpy.random.normal(size=len(lpf_signal), scale=0.5)\n",
        "\n",
        "pyplot.figure()\n",
        "pyplot.plot(signal, 'red', label='Signal')\n",
        "pyplot.plot(lpf_signal, 'blue', label='Signal after low-pass filtering')\n",
        "pyplot.legend()\n",
        "pyplot.show()"
      ],
      "execution_count": null,
      "outputs": [
        {
          "output_type": "display_data",
          "data": {
            "image/png": "[encoded data removed]",
            "text/plain": [
              "<Figure size 432x288 with 1 Axes>"
            ]
          },
          "metadata": {
            "tags": [],
            "needs_background": "light"
          }
        }
      ]
    },
    {
      "cell_type": "markdown",
      "metadata": {
        "id": "1taMmIsJ96C8"
      },
      "source": [
        "Consider the random signal below. Take the DFT of this signal, then zero-out the higher half of the frequencies. The high frequencies are considered those greater than  B/4  and less than  −B/4  (we want to remove large negative frequencies as well). Be careful to remove the right frequencies. Then use the inverse DFT to recover the filtered time-domain signal.\n",
        "\n",
        "* Plot the original signal and the signal after the low-pass filter (you can plot just the real component of both signals).\n",
        "\n",
        "Note that in practice, this isn't a great low-pass filter. You can read more here if you're curious why this approach is suboptimal."
      ]
    },
    {
      "cell_type": "code",
      "metadata": {
        "id": "YTVe-1It91nd"
      },
      "source": [
        "signal_len = 64\n",
        "signal = numpy.random.random(signal_len) + 1j * numpy.random.random(signal_len)"
      ],
      "execution_count": null,
      "outputs": []
    },
    {
      "cell_type": "code",
      "metadata": {
        "colab": {
          "base_uri": "https://localhost:8080/",
          "height": 374
        },
        "id": "hJaUlGWu-qSz",
        "outputId": "979eeb5a-5943-4e84-c455-fa820e200881"
      },
      "source": [
        "X = fftpack.fft(signal)\n",
        "freqs = fftpack.fftfreq(len(signal))\n",
        "print(min(freqs),max(freqs))\n",
        "for i in range(len(freqs)):\n",
        "  if freqs[i]>=0.1 or freqs[i]<=-0.1:\n",
        "    X[i]=0+1j*0\n",
        "lpf_signal=fftpack.ifft(X)\n",
        "pyplot.figure()\n",
        "pyplot.plot(signal, 'red', label='Signal')\n",
        "pyplot.plot(lpf_signal, 'blue', label='Signal after low-pass filtering')\n",
        "pyplot.legend()\n",
        "pyplot.show()"
      ],
      "execution_count": null,
      "outputs": [
        {
          "output_type": "stream",
          "text": [
            "-0.5 0.484375\n"
          ],
          "name": "stdout"
        },
        {
          "output_type": "stream",
          "text": [
            "/usr/local/lib/python3.7/dist-packages/numpy/core/_asarray.py:83: ComplexWarning: Casting complex values to real discards the imaginary part\n",
            "  return array(a, dtype, copy=False, order=order)\n",
            "/usr/local/lib/python3.7/dist-packages/numpy/core/_asarray.py:83: ComplexWarning: Casting complex values to real discards the imaginary part\n",
            "  return array(a, dtype, copy=False, order=order)\n"
          ],
          "name": "stderr"
        },
        {
          "output_type": "display_data",
          "data": {
            "image/png": "[encoded data removed]",
            "text/plain": [
              "<Figure size 432x288 with 1 Axes>"
            ]
          },
          "metadata": {
            "tags": [],
            "needs_background": "light"
          }
        }
      ]
    },
    {
      "cell_type": "markdown",
      "metadata": {
        "id": "kP8vyk2NB3GE"
      },
      "source": [
        "#Part 1: Interfacing with the HackRF radio\n",
        "The HackRF is a low-cost software-defined radio (SDR). We use the term \"software-defined\" to distinguish from the more typical hardware radios found in things like cell phones where radio parameters like center frequency, sample rate (bandwidth), gain, and analog filters are all set in hardware. For SDRs, these parameters can vary over a wide range and can be set in software. So SDRs are more flexible than typical radio hardware, but they are more expensive and draw more power.\n",
        "\n",
        "Nearly all modern digital radios (software-defined or not) will deal with complex digital samples. These samples are sometimes called \"in-phase and quadrature\" samples or simply I/Q samples (\"in-phase\" refers to the real part and \"quadrature\" refers to the imaginary part). The reason for using complex values has to do with hardware design which we won't go into in this course, but it is also mathematically convenient (consider the definition of the DFT uses complex values).\n",
        "\n",
        "##Problem 1.1 Tuning in on the airwaves (10 pts):\n",
        "* Using the API below, tune your HackRF hardware to a center frequency of 1250MHz at a bandwidth of 5MHz and capture 1M samples. Plot the samples in the time domain and the frequency domain (i.e. after applying the DFT).\n",
        "\n",
        "Plot the real and imaginary components of the time signal separately (on the same plot), and plot the magnitude of the spectrum (with a logarithmic scale).\n",
        "\n",
        "Use the Radio class provided below. Software radios usually do buffered I/O, meaning samples are buffered in the radio hardware and then the whole buffer is sent to the computer. This is instead of sending one sample at a time to the computer, which would be inefficient. So you'll need to grab samples in chunks of the buffer size and store them in memory. The buffer size for the HackRF is 131072 samples, and is set in hardware so it cannot be changed. You may grab samples from the HackRF in chunk sizes up to and including the buffer size."
      ]
    },
    {
      "cell_type": "code",
      "metadata": {
        "colab": {
          "base_uri": "https://localhost:8080/"
        },
        "id": "BqXxSnUVEHZy",
        "outputId": "b5ffbfd8-8fb3-431c-8499-e8fb185a6827"
      },
      "source": [
        "!apt update\n",
        "!apt install -y cmake\n",
        "!pip install dlib"
      ],
      "execution_count": null,
      "outputs": [
        {
          "output_type": "stream",
          "text": [
            "shell-init: error retrieving current directory: getcwd: cannot access parent directories: No such file or directory\n",
            "\u001b[33m\r0% [Working]\u001b[0m\r            \rIgn:1 https://developer.download.nvidia.com/compute/cuda/repos/ubuntu1804/x86_64  InRelease\n",
            "\u001b[33m\r0% [Waiting for headers] [Waiting for headers] [Connected to cloud.r-project.or\u001b[0m\r                                                                               \rHit:2 https://cloud.r-project.org/bin/linux/ubuntu bionic-cran40/ InRelease\n",
            "\u001b[33m\r0% [Waiting for headers] [Waiting for headers] [Waiting for headers] [Waiting f\u001b[0m\u001b[33m\r0% [2 InRelease gpgv 3,626 B] [Waiting for headers] [Waiting for headers] [Wait\u001b[0m\r                                                                               \rIgn:3 https://developer.download.nvidia.com/compute/machine-learning/repos/ubuntu1804/x86_64  InRelease\n",
            "\u001b[33m\r0% [2 InRelease gpgv 3,626 B] [Waiting for headers] [Waiting for headers] [Wait\u001b[0m\r                                                                               \rHit:4 http://ppa.launchpad.net/c2d4u.team/c2d4u4.0+/ubuntu bionic InRelease\n",
            "\u001b[33m\r0% [2 InRelease gpgv 3,626 B] [Waiting for headers] [Waiting for headers] [Conn\u001b[0m\r                                                                               \rGet:5 http://security.ubuntu.com/ubuntu bionic-security InRelease [88.7 kB]\n",
            "Hit:6 http://archive.ubuntu.com/ubuntu bionic InRelease\n",
            "Hit:7 https://developer.download.nvidia.com/compute/cuda/repos/ubuntu1804/x86_64  Release\n",
            "Hit:8 https://developer.download.nvidia.com/compute/machine-learning/repos/ubuntu1804/x86_64  Release\n",
            "Get:9 http://archive.ubuntu.com/ubuntu bionic-updates InRelease [88.7 kB]\n",
            "Hit:10 http://ppa.launchpad.net/cran/libgit2/ubuntu bionic InRelease\n",
            "Hit:11 http://ppa.launchpad.net/deadsnakes/ppa/ubuntu bionic InRelease\n",
            "Get:12 http://archive.ubuntu.com/ubuntu bionic-backports InRelease [74.6 kB]\n",
            "Hit:13 http://ppa.launchpad.net/graphics-drivers/ppa/ubuntu bionic InRelease\n",
            "Fetched 252 kB in 3s (94.2 kB/s)\n",
            "Reading package lists... Done\n",
            "Building dependency tree       \n",
            "Reading state information... Done\n",
            "50 packages can be upgraded. Run 'apt list --upgradable' to see them.\n",
            "shell-init: error retrieving current directory: getcwd: cannot access parent directories: No such file or directory\n",
            "Reading package lists... Done\n",
            "Building dependency tree       \n",
            "Reading state information... Done\n",
            "cmake is already the newest version (3.10.2-1ubuntu2.18.04.1).\n",
            "0 upgraded, 0 newly installed, 0 to remove and 50 not upgraded.\n",
            "shell-init: error retrieving current directory: getcwd: cannot access parent directories: No such file or directory\n",
            "shell-init: error retrieving current directory: getcwd: cannot access parent directories: No such file or directory\n",
            "The folder you are executing pip from can no longer be found.\n"
          ],
          "name": "stdout"
        }
      ]
    },
    {
      "cell_type": "code",
      "metadata": {
        "id": "CBcCNVTTDfOW"
      },
      "source": [
        "!sudo git clone https://github.com/pothosware/SoapySDR.git"
      ],
      "execution_count": null,
      "outputs": []
    },
    {
      "cell_type": "code",
      "metadata": {
        "id": "eE550PTeO_Rs"
      },
      "source": [
        "cd /content/"
      ],
      "execution_count": null,
      "outputs": []
    },
    {
      "cell_type": "code",
      "metadata": {
        "colab": {
          "base_uri": "https://localhost:8080/"
        },
        "id": "q2BqOmHuQWWf",
        "outputId": "72f387d2-3555-46e3-e593-6cb2715ebe6a"
      },
      "source": [
        "!git pull origin master"
      ],
      "execution_count": null,
      "outputs": [
        {
          "output_type": "stream",
          "text": [
            "shell-init: error retrieving current directory: getcwd: cannot access parent directories: No such file or directory\n",
            "fatal: Unable to read current working directory: No such file or directory\n"
          ],
          "name": "stdout"
        }
      ]
    },
    {
      "cell_type": "code",
      "metadata": {
        "colab": {
          "base_uri": "https://localhost:8080/"
        },
        "id": "Y_bJI7sHQNfb",
        "outputId": "2ced9a4d-b710-416a-df2d-63c921636bf4"
      },
      "source": [
        "mkdir build\n"
      ],
      "execution_count": null,
      "outputs": [
        {
          "output_type": "stream",
          "text": [
            "mkdir: cannot create directory ‘build’: File exists\n"
          ],
          "name": "stdout"
        }
      ]
    },
    {
      "cell_type": "code",
      "metadata": {
        "colab": {
          "base_uri": "https://localhost:8080/"
        },
        "id": "YSi7n_kLQRSw",
        "outputId": "b43fd45e-4a2a-4ab3-92a6-d484ead4688c"
      },
      "source": [
        "cd build"
      ],
      "execution_count": null,
      "outputs": [
        {
          "output_type": "stream",
          "text": [
            "/content/SoapySDR/build\n"
          ],
          "name": "stdout"
        }
      ]
    },
    {
      "cell_type": "code",
      "metadata": {
        "colab": {
          "base_uri": "https://localhost:8080/"
        },
        "id": "c-Z_m3b4QeMw",
        "outputId": "f4bba50e-bfc1-464f-8179-6bd5f00660dc"
      },
      "source": [
        "!cmake .."
      ],
      "execution_count": null,
      "outputs": [
        {
          "output_type": "stream",
          "text": [
            "-- The C compiler identification is GNU 7.5.0\n",
            "-- The CXX compiler identification is GNU 7.5.0\n",
            "-- Check for working C compiler: /usr/bin/cc\n",
            "-- Check for working C compiler: /usr/bin/cc -- works\n",
            "-- Detecting C compiler ABI info\n",
            "-- Detecting C compiler ABI info - done\n",
            "-- Detecting C compile features\n",
            "-- Detecting C compile features - done\n",
            "-- Check for working CXX compiler: /usr/bin/c++\n",
            "-- Check for working CXX compiler: /usr/bin/c++ -- works\n",
            "-- Detecting CXX compiler ABI info\n",
            "-- Detecting CXX compiler ABI info - done\n",
            "-- Detecting CXX compile features\n",
            "-- Detecting CXX compile features - done\n",
            "-- Build type not specified: defaulting to release.\n",
            "-- Could NOT find Doxygen (missing: DOXYGEN_EXECUTABLE) \n",
            "-- \n",
            "-- #############################################\n",
            "-- ## Begin configuration for Python support...\n",
            "-- #############################################\n",
            "-- Enabling optional Python bindings if possible...\n",
            "-- Could NOT find SWIG (missing: SWIG_EXECUTABLE SWIG_DIR) \n",
            "-- SWIG_FOUND: FALSE - \n",
            "-- Found PythonInterp: /usr/local/bin/python (found version \"2.7.17\") \n",
            "-- PYTHONINTERP_FOUND: TRUE - 2.7.17\n",
            "-- PYTHON_EXECUTABLE: /usr/local/bin/python\n",
            "-- PYTHON_INSTALL_DIR: ${prefix}/lib/python2.7/dist-packages\n",
            "-- Found PythonLibs: /usr/lib/x86_64-linux-gnu/libpython2.7.so (found version \"2.7.17\") \n",
            "-- PYTHONLIBS_FOUND: TRUE - 2.7.17\n",
            "-- PYTHON_INCLUDE_DIRS: /usr/include/python2.7\n",
            "-- PYTHON_LIBRARIES: /usr/lib/x86_64-linux-gnu/libpython2.7.so\n",
            "-- Performing Test SIZE_T_IS_UNSIGNED_INT\n",
            "-- Performing Test SIZE_T_IS_UNSIGNED_INT - Failed\n",
            "-- \n",
            "-- #############################################\n",
            "-- ## Begin configuration for Python3 support...\n",
            "-- #############################################\n",
            "-- Enabling optional Python3 bindings if possible...\n",
            "-- Could NOT find SWIG (missing: SWIG_EXECUTABLE SWIG_DIR) \n",
            "-- SWIG_FOUND: FALSE - \n",
            "-- Found Python3Interp: /usr/bin/python3  \n",
            "-- Could NOT find Python3InterpDbg (missing: PYTHON3_DBG_EXECUTABLE) \n",
            "-- PYTHON3INTERP_FOUND: TRUE\n",
            "-- PYTHON3_EXECUTABLE: /usr/bin/python3\n",
            "-- PYTHON3_INSTALL_DIR: ${prefix}/lib/python3.7/dist-packages\n",
            "-- Found Python3Libs: -L/usr/lib/python3.6/config-3.6m-x86_64-linux-gnu -L/usr/lib -lpython3.6m -lpthread -ldl  -lutil -lm  -Xlinker -export-dynamic -Wl,-O1 -Wl,-Bsymbolic-functions  \n",
            "-- PYTHON3LIBS_FOUND: TRUE\n",
            "-- PYTHON3_INCLUDE_DIRS: /usr/include/python3.6m;/usr/include/python3.6m\n",
            "-- PYTHON3_LIBRARIES: -L/usr/lib/python3.6/config-3.6m-x86_64-linux-gnu -L/usr/lib -lpython3.6m -lpthread -ldl  -lutil -lm  -Xlinker -export-dynamic -Wl,-O1 -Wl,-Bsymbolic-functions\n",
            "-- \n",
            "-- ######################################################\n",
            "-- ## SoapySDR enabled features\n",
            "-- ######################################################\n",
            "-- \n",
            " * Library, runtime library v0.8.0-g351896d3\n",
            " * Apps, command line applications\n",
            " * Tests, library unit tests\n",
            "\n",
            "-- ######################################################\n",
            "-- ## SoapySDR disabled features\n",
            "-- ######################################################\n",
            "-- \n",
            " * Docs, doxygen documentation\n",
            " * Python, python bindings v2.7.17\n",
            " * Python3, python3 bindings\n",
            "\n",
            "-- SoapySDR version: v0.8.0-g351896d3\n",
            "-- ABI/so version: v0.8\n",
            "-- Install prefix: /usr/local\n",
            "-- Configuring done\n",
            "-- Generating done\n",
            "-- Build files have been written to: /content/SoapySDR/build\n"
          ],
          "name": "stdout"
        }
      ]
    },
    {
      "cell_type": "code",
      "metadata": {
        "colab": {
          "base_uri": "https://localhost:8080/"
        },
        "id": "O78iGuGJQiFE",
        "outputId": "33c6d96f-bd44-4e7a-c269-f7755ed03f74"
      },
      "source": [
        "!make -j4"
      ],
      "execution_count": null,
      "outputs": [
        {
          "output_type": "stream",
          "text": [
            "\u001b[35m\u001b[1mScanning dependencies of target SoapySDR\u001b[0m\n",
            "[  2%] \u001b[32mBuilding CXX object lib/CMakeFiles/SoapySDR.dir/Device.cpp.o\u001b[0m\n",
            "[  5%] \u001b[32mBuilding CXX object lib/CMakeFiles/SoapySDR.dir/Types.cpp.o\u001b[0m\n",
            "[  8%] \u001b[32mBuilding CXX object lib/CMakeFiles/SoapySDR.dir/Factory.cpp.o\u001b[0m\n",
            "[ 11%] \u001b[32mBuilding CXX object lib/CMakeFiles/SoapySDR.dir/Registry.cpp.o\u001b[0m\n",
            "[ 14%] \u001b[32mBuilding CXX object lib/CMakeFiles/SoapySDR.dir/NullDevice.cpp.o\u001b[0m\n",
            "[ 17%] \u001b[32mBuilding CXX object lib/CMakeFiles/SoapySDR.dir/Logger.cpp.o\u001b[0m\n",
            "[ 20%] \u001b[32mBuilding CXX object lib/CMakeFiles/SoapySDR.dir/Errors.cpp.o\u001b[0m\n",
            "[ 22%] \u001b[32mBuilding CXX object lib/CMakeFiles/SoapySDR.dir/Formats.cpp.o\u001b[0m\n",
            "[ 25%] \u001b[32mBuilding CXX object lib/CMakeFiles/SoapySDR.dir/ConverterRegistry.cpp.o\u001b[0m\n",
            "[ 28%] \u001b[32mBuilding CXX object lib/CMakeFiles/SoapySDR.dir/DefaultConverters.cpp.o\u001b[0m\n",
            "[ 31%] \u001b[32mBuilding CXX object lib/CMakeFiles/SoapySDR.dir/TypesC.cpp.o\u001b[0m\n",
            "[ 34%] \u001b[32mBuilding CXX object lib/CMakeFiles/SoapySDR.dir/ModulesC.cpp.o\u001b[0m\n",
            "[ 37%] \u001b[32mBuilding CXX object lib/CMakeFiles/SoapySDR.dir/VersionC.cpp.o\u001b[0m\n",
            "[ 40%] \u001b[32mBuilding CXX object lib/CMakeFiles/SoapySDR.dir/DeviceC.cpp.o\u001b[0m\n",
            "[ 42%] \u001b[32mBuilding CXX object lib/CMakeFiles/SoapySDR.dir/FactoryC.cpp.o\u001b[0m\n",
            "[ 45%] \u001b[32mBuilding CXX object lib/CMakeFiles/SoapySDR.dir/LoggerC.cpp.o\u001b[0m\n",
            "[ 48%] \u001b[32mBuilding CXX object lib/CMakeFiles/SoapySDR.dir/TimeC.cpp.o\u001b[0m\n",
            "[ 51%] \u001b[32mBuilding CXX object lib/CMakeFiles/SoapySDR.dir/ErrorsC.cpp.o\u001b[0m\n",
            "[ 54%] \u001b[32mBuilding CXX object lib/CMakeFiles/SoapySDR.dir/FormatsC.cpp.o\u001b[0m\n",
            "[ 57%] \u001b[32mBuilding CXX object lib/CMakeFiles/SoapySDR.dir/ConvertersC.cpp.o\u001b[0m\n",
            "[ 60%] \u001b[32mBuilding CXX object lib/CMakeFiles/SoapySDR.dir/Modules.cpp.o\u001b[0m\n",
            "[ 62%] \u001b[32mBuilding CXX object lib/CMakeFiles/SoapySDR.dir/Version.cpp.o\u001b[0m\n",
            "[ 65%] \u001b[32m\u001b[1mLinking CXX shared library libSoapySDR.so\u001b[0m\n",
            "[ 65%] Built target SoapySDR\n",
            "\u001b[35m\u001b[1mScanning dependencies of target TestConvertTypes\u001b[0m\n",
            "\u001b[35m\u001b[1mScanning dependencies of target SoapySDRUtil\u001b[0m\n",
            "\u001b[35m\u001b[1mScanning dependencies of target TestFormatParser\u001b[0m\n",
            "\u001b[35m\u001b[1mScanning dependencies of target TestTimeConversion\u001b[0m\n",
            "[ 68%] \u001b[32mBuilding CXX object tests/CMakeFiles/TestFormatParser.dir/TestFormatParser.cpp.o\u001b[0m\n",
            "[ 71%] \u001b[32mBuilding CXX object tests/CMakeFiles/TestConvertTypes.dir/TestConvertTypes.cpp.o\u001b[0m\n",
            "[ 74%] \u001b[32mBuilding CXX object tests/CMakeFiles/TestTimeConversion.dir/TestTimeConversion.cpp.o\u001b[0m\n",
            "[ 77%] \u001b[32mBuilding CXX object apps/CMakeFiles/SoapySDRUtil.dir/SoapySDRUtil.cpp.o\u001b[0m\n",
            "[ 80%] \u001b[32m\u001b[1mLinking CXX executable TestTimeConversion\u001b[0m\n",
            "[ 82%] \u001b[32m\u001b[1mLinking CXX executable TestFormatParser\u001b[0m\n",
            "[ 82%] Built target TestTimeConversion\n",
            "\u001b[35m\u001b[1mScanning dependencies of target TestKwargsMarkup\u001b[0m\n",
            "[ 85%] \u001b[32mBuilding CXX object tests/CMakeFiles/TestKwargsMarkup.dir/TestKwargsMarkup.cpp.o\u001b[0m\n",
            "[ 85%] Built target TestFormatParser\n",
            "[ 88%] \u001b[32mBuilding CXX object apps/CMakeFiles/SoapySDRUtil.dir/SoapySDRProbe.cpp.o\u001b[0m\n",
            "[ 91%] \u001b[32m\u001b[1mLinking CXX executable TestConvertTypes\u001b[0m\n",
            "[ 91%] Built target TestConvertTypes\n",
            "[ 94%] \u001b[32mBuilding CXX object apps/CMakeFiles/SoapySDRUtil.dir/SoapyRateTest.cpp.o\u001b[0m\n",
            "[ 97%] \u001b[32m\u001b[1mLinking CXX executable TestKwargsMarkup\u001b[0m\n",
            "[ 97%] Built target TestKwargsMarkup\n",
            "[100%] \u001b[32m\u001b[1mLinking CXX executable SoapySDRUtil\u001b[0m\n",
            "[100%] Built target SoapySDRUtil\n"
          ],
          "name": "stdout"
        }
      ]
    },
    {
      "cell_type": "code",
      "metadata": {
        "colab": {
          "base_uri": "https://localhost:8080/"
        },
        "id": "AfkFsyVJQqLR",
        "outputId": "d228b480-6748-4672-c2de-242efeaadd1a"
      },
      "source": [
        "!sudo make install"
      ],
      "execution_count": null,
      "outputs": [
        {
          "output_type": "stream",
          "text": [
            "[ 65%] Built target SoapySDR\n",
            "[ 77%] Built target SoapySDRUtil\n",
            "[ 82%] Built target TestTimeConversion\n",
            "[ 88%] Built target TestConvertTypes\n",
            "[ 94%] Built target TestFormatParser\n",
            "[100%] Built target TestKwargsMarkup\n",
            "\u001b[36mInstall the project...\u001b[0m\n",
            "-- Install configuration: \"Release\"\n",
            "-- Up-to-date: /usr/local/share/cmake/SoapySDR/SoapySDRConfig.cmake\n",
            "-- Up-to-date: /usr/local/share/cmake/SoapySDR/SoapySDRUtil.cmake\n",
            "-- Up-to-date: /usr/local/share/cmake/SoapySDR/SoapySDRConfigVersion.cmake\n",
            "-- Up-to-date: /usr/local/include/SoapySDR\n",
            "-- Up-to-date: /usr/local/include/SoapySDR/Formats.hpp\n",
            "-- Up-to-date: /usr/local/include/SoapySDR/Config.hpp\n",
            "-- Up-to-date: /usr/local/include/SoapySDR/Modules.h\n",
            "-- Up-to-date: /usr/local/include/SoapySDR/Types.hpp\n",
            "-- Up-to-date: /usr/local/include/SoapySDR/Device.h\n",
            "-- Up-to-date: /usr/local/include/SoapySDR/Version.h\n",
            "-- Up-to-date: /usr/local/include/SoapySDR/Modules.hpp\n",
            "-- Up-to-date: /usr/local/include/SoapySDR/Logger.hpp\n",
            "-- Up-to-date: /usr/local/include/SoapySDR/Time.hpp\n",
            "-- Up-to-date: /usr/local/include/SoapySDR/ConverterRegistry.hpp\n",
            "-- Up-to-date: /usr/local/include/SoapySDR/Version.hpp\n",
            "-- Up-to-date: /usr/local/include/SoapySDR/Types.h\n",
            "-- Up-to-date: /usr/local/include/SoapySDR/Time.h\n",
            "-- Up-to-date: /usr/local/include/SoapySDR/Errors.hpp\n",
            "-- Up-to-date: /usr/local/include/SoapySDR/Config.h\n",
            "-- Up-to-date: /usr/local/include/SoapySDR/Logger.h\n",
            "-- Up-to-date: /usr/local/include/SoapySDR/Converters.h\n",
            "-- Up-to-date: /usr/local/include/SoapySDR/Device.hpp\n",
            "-- Up-to-date: /usr/local/include/SoapySDR/Errors.h\n",
            "-- Up-to-date: /usr/local/include/SoapySDR/ConverterPrimitives.hpp\n",
            "-- Up-to-date: /usr/local/include/SoapySDR/Formats.h\n",
            "-- Up-to-date: /usr/local/include/SoapySDR/Registry.hpp\n",
            "-- Up-to-date: /usr/local/include/SoapySDR/Constants.h\n",
            "-- Up-to-date: /usr/local/lib/libSoapySDR.so.0.8.0\n",
            "-- Up-to-date: /usr/local/lib/libSoapySDR.so.0.8\n",
            "-- Up-to-date: /usr/local/lib/libSoapySDR.so\n",
            "-- Up-to-date: /usr/local/share/cmake/SoapySDR/SoapySDRExport.cmake\n",
            "-- Up-to-date: /usr/local/share/cmake/SoapySDR/SoapySDRExport-release.cmake\n",
            "-- Up-to-date: /usr/local/lib/pkgconfig/SoapySDR.pc\n",
            "-- Up-to-date: /usr/local/bin/SoapySDRUtil\n",
            "-- Up-to-date: /usr/local/share/man/man1/SoapySDRUtil.1\n"
          ],
          "name": "stdout"
        }
      ]
    },
    {
      "cell_type": "code",
      "metadata": {
        "colab": {
          "base_uri": "https://localhost:8080/"
        },
        "id": "zNSzkqE3QuFp",
        "outputId": "827c39ed-2474-4619-c9d2-096fbe94bda5"
      },
      "source": [
        "!sudo ldconfig"
      ],
      "execution_count": null,
      "outputs": [
        {
          "output_type": "stream",
          "text": [
            "/sbin/ldconfig.real: /usr/local/lib/python3.7/dist-packages/ideep4py/lib/libmkldnn.so.0 is not a symbolic link\n",
            "\n"
          ],
          "name": "stdout"
        }
      ]
    },
    {
      "cell_type": "code",
      "metadata": {
        "colab": {
          "base_uri": "https://localhost:8080/"
        },
        "id": "tmk79DtFQ0uA",
        "outputId": "eae127b3-1111-4056-a214-27ae610a4d8f"
      },
      "source": [
        "!SoapySDRUtil --info"
      ],
      "execution_count": null,
      "outputs": [
        {
          "output_type": "stream",
          "text": [
            "######################################################\n",
            "##     Soapy SDR -- the SDR abstraction library     ##\n",
            "######################################################\n",
            "\n",
            "Lib Version: v0.8.0-g351896d3\n",
            "API Version: v0.8.0\n",
            "ABI Version: v0.8\n",
            "Install root: /usr/local\n",
            "Search path:  /usr/local/lib/SoapySDR/modules0.8 (missing)\n",
            "No modules found!\n",
            "Available factories... No factories found!\n",
            "Available converters...\n",
            " -  CF32 -> [CF32, CS16, CS8, CU16, CU8]\n",
            " -  CS16 -> [CF32, CS16, CS8, CU16, CU8]\n",
            " -  CS32 -> [CS32]\n",
            " -   CS8 -> [CF32, CS16, CS8, CU16, CU8]\n",
            " -  CU16 -> [CF32, CS16, CS8]\n",
            " -   CU8 -> [CF32, CS16, CS8]\n",
            " -   F32 -> [F32, S16, S8, U16, U8]\n",
            " -   S16 -> [F32, S16, S8, U16, U8]\n",
            " -   S32 -> [S32]\n",
            " -    S8 -> [F32, S16, S8, U16, U8]\n",
            " -   U16 -> [F32, S16, S8]\n",
            " -    U8 -> [F32, S16, S8]\n"
          ],
          "name": "stdout"
        }
      ]
    },
    {
      "cell_type": "code",
      "metadata": {
        "id": "5BkyZEZoCqsK"
      },
      "source": [
        "import SoapySDR\n",
        "from SoapySDR import SOAPY_SDR_RX, SOAPY_SDR_CF32"
      ],
      "execution_count": null,
      "outputs": []
    },
    {
      "cell_type": "code",
      "metadata": {
        "id": "r99eScxDBsfE"
      },
      "source": [
        "class Radio:\n",
        "    def __init__(self, *args, **kwargs):\n",
        "        self.sdr = SoapySDR.Device(*args, **kwargs)\n",
        "\n",
        "    def set_sample_rate(self, sample_rate_hz):\n",
        "        self.sdr.setSampleRate(SOAPY_SDR_RX, 0, sample_rate_hz)\n",
        "\n",
        "    def set_center_frequency(self, freq_hz):\n",
        "        self.sdr.setFrequency(SOAPY_SDR_RX, 0, freq_hz)\n",
        "\n",
        "    def start_receive(self):\n",
        "        self.rx_stream = self.sdr.setupStream(SOAPY_SDR_RX, SOAPY_SDR_CF32)\n",
        "        self.sdr.activateStream(self.rx_stream)\n",
        "\n",
        "    def stop_receive(self):\n",
        "        self.sdr.deactivateStream(self.rx_stream)\n",
        "        self.sdr.closeStream(self.rx_stream)\n",
        "        self.rx_stream = None\n",
        "\n",
        "    def grab_samples(self, rx_buff):\n",
        "        if self.rx_stream is None:\n",
        "            raise RuntimeError(\"Need to start receiving before grabbing samples\")\n",
        "\n",
        "        if len(rx_buff) > self.get_buffer_size():\n",
        "            raise RuntimeError(\"Number of samples cannot be more than the buffer size\")\n",
        "\n",
        "        resp = self.sdr.readStream(self.rx_stream, [rx_buff], numElems=len(rx_buff))\n",
        "        if resp.ret != len(rx_buff):\n",
        "            raise RuntimeError('Receive failed: {}'.format(SoapySDR.errToStr(resp.ret)))\n",
        "\n",
        "    def get_buffer_size(self):\n",
        "        return 131072\n",
        "rad=Radio()\n",
        "rad.set_center_frequency(freq_hz=1250000000)\n",
        "rad.set_sample_rate(sample_rate_hz=5000000)\n",
        "rad.start_receive()\n",
        "rad.grab_samples( rx_buff=samples_list)\n",
        "rad.stop_receive()\n",
        "\n",
        "N=1000000\n",
        "T = 1.0 / 800.0\n",
        "x = np.linspace(0.0, N*T, N)\n",
        "fig, ax = plt.subplots()\n",
        "ax.plot(x, samples_list)\n",
        "plt.show()\n",
        "\n",
        "fig, ax = plt.subplots()\n",
        "ax.plot(xf, numpy.fft.fft(sample_list))\n",
        "plt.show()\n"
      ],
      "execution_count": null,
      "outputs": []
    },
    {
      "cell_type": "code",
      "metadata": {
        "colab": {
          "base_uri": "https://localhost:8080/",
          "height": 356
        },
        "id": "EFWLl1sPbQfV",
        "outputId": "a21b2a41-85eb-4ba9-fd52-964c3b7b0782"
      },
      "source": [
        "#Perform high pass filtering of the signal to remove the DC offset\n",
        "\n",
        "highpass_signal = signal - lpf_signal\n",
        "pyplot.figure()\n",
        "pyplot.plot(signal, 'red', label='Signal')\n",
        "pyplot.plot(highpass_signal, 'blue', label='Signal after high-pass filtering')\n",
        "pyplot.legend()\n",
        "pyplot.show()\n"
      ],
      "execution_count": null,
      "outputs": [
        {
          "output_type": "stream",
          "text": [
            "/usr/local/lib/python3.7/dist-packages/numpy/core/_asarray.py:83: ComplexWarning: Casting complex values to real discards the imaginary part\n",
            "  return array(a, dtype, copy=False, order=order)\n",
            "/usr/local/lib/python3.7/dist-packages/numpy/core/_asarray.py:83: ComplexWarning: Casting complex values to real discards the imaginary part\n",
            "  return array(a, dtype, copy=False, order=order)\n"
          ],
          "name": "stderr"
        },
        {
          "output_type": "display_data",
          "data": {
            "image/png": "[encoded data removed]",
            "text/plain": [
              "<Figure size 432x288 with 1 Axes>"
            ]
          },
          "metadata": {
            "tags": [],
            "needs_background": "light"
          }
        }
      ]
    },
    {
      "cell_type": "markdown",
      "metadata": {
        "id": "rfdGCLhRa-Nb"
      },
      "source": [
        "#Part 2: Fine-tuning Your Reception\n",
        "Both transmitters and receivers can have different gains. A transmitter's gain determines how loud the signal is over-the-air, and a receiver's gain determines how much a signal is amplified before being digitally sampled. The receive gain is important to get right because it determines the dynamic range of the analog-to-digital converter (ADC). For example, an 8-bit ADC has values between 0 and 255. The dynamic range is the voltage difference between the value of 0 and the value of 255. If the receive gain is too low, then the signal may be lost in the noise, but if the receive gain is too high, then all of your signal will have value close to 255 which will cause distortion. This distortion is known as \"clipping,\" and is demonstrated below.\n",
        "\n"
      ]
    },
    {
      "cell_type": "code",
      "metadata": {
        "colab": {
          "base_uri": "https://localhost:8080/",
          "height": 356
        },
        "id": "cE59eBsfau4X",
        "outputId": "b74ed933-c32d-4661-bbd4-ba20df615554"
      },
      "source": [
        "# Simulated example of the clipping effect\n",
        "x = numpy.linspace(0, 4 * numpy.pi, 75)\n",
        "normal_sine = numpy.sin(x)\n",
        "high_gain_sine = 1.5 * normal_sine\n",
        "pyplot.figure()\n",
        "ax1 = pyplot.subplot(1, 2, 1)\n",
        "pyplot.stem(numpy.clip(normal_sine, -1.2, 1.2))\n",
        "pyplot.subplot(1, 2, 2, sharey=ax1)\n",
        "pyplot.stem(numpy.clip(high_gain_sine, -1.2, 1.2))\n",
        "pyplot.show()"
      ],
      "execution_count": null,
      "outputs": [
        {
          "output_type": "stream",
          "text": [
            "/usr/local/lib/python3.7/dist-packages/ipykernel_launcher.py:7: UserWarning: In Matplotlib 3.3 individual lines on a stem plot will be added as a LineCollection instead of individual lines. This significantly improves the performance of a stem plot. To remove this warning and switch to the new behaviour, set the \"use_line_collection\" keyword argument to True.\n",
            "  import sys\n",
            "/usr/local/lib/python3.7/dist-packages/ipykernel_launcher.py:9: UserWarning: In Matplotlib 3.3 individual lines on a stem plot will be added as a LineCollection instead of individual lines. This significantly improves the performance of a stem plot. To remove this warning and switch to the new behaviour, set the \"use_line_collection\" keyword argument to True.\n",
            "  if __name__ == '__main__':\n"
          ],
          "name": "stderr"
        },
        {
          "output_type": "display_data",
          "data": {
            "image/png": "[encoded data removed]",
            "text/plain": [
              "<Figure size 432x288 with 2 Axes>"
            ]
          },
          "metadata": {
            "tags": [],
            "needs_background": "light"
          }
        }
      ]
    },
    {
      "cell_type": "code",
      "metadata": {
        "id": "dCTaSysDbFSP"
      },
      "source": [
        "def set_gain(radio, maximum):\n",
        "    radio.sdr.setGainMode(SoapySDR.SOAPY_SDR_RX, 0, automatic=False)\n",
        "    for gain in radio.sdr.listGains(SoapySDR.SOAPY_SDR_RX, 0):\n",
        "        gain_range = radio.sdr.getGainRange(SoapySDR.SOAPY_SDR_RX, 0, gain)\n",
        "        print(f'RX {gain}: {gain_range}')\n",
        "        radio.sdr.setGain(SoapySDR.SOAPY_SDR_RX, 0, gain, gain_range.maximum() if maximum else gain_range.minimum())\n",
        "    from time import sleep\n",
        "    sleep(1)\n",
        "rad=Radio()\n",
        "rad.set_center_frequency(freq_hz=1250000000)\n",
        "rad.set_gain(radio, maximum=false)\n",
        "rad.start_receive()\n",
        "rad.grab_samples( rx_buff=samples_list)\n",
        "rad.stop_receive()\n",
        "rad.set_gain(radio, maximum=true)\n",
        "rad.start_receive()\n",
        "rad.grab_samples( rx_buff=samples_list)\n",
        "rad.stop_receive()\n"
      ],
      "execution_count": null,
      "outputs": []
    }
  ]
}